{
 "cells": [
  {
   "cell_type": "code",
   "execution_count": 36,
   "metadata": {},
   "outputs": [],
   "source": [
    "import json\n",
    "import requests\n",
    "import urllib\n",
    "\n",
    "### 트레이닝 데이터 읽기\n",
    "with open(\"train_data.json\") as fp:\n",
    "    training_data = json.load(fp)\n",
    "\n",
    "### 챔피언 데이터 읽기\n",
    "with urllib.request.urlopen('http://ddragon.leagueoflegends.com/cdn/6.24.1/data/en_US/champion.json') as response:\n",
    "    champion_info = json.loads(response.read())\n",
    "\n",
    "### 테스트 인풋 데이터 읽기\n",
    "with open(\"test.input.json\") as fp:\n",
    "    testing_data = json.load(fp)\n",
    "    \n",
    "### 테스트 아웃풋 데이터 읽기\n",
    "with open(\"test.output\") as fp:\n",
    "    y = fp.read().splitlines()\n",
    "    y = [int(i) for i in y]"
   ]
  },
  {
   "cell_type": "code",
   "execution_count": 3,
   "metadata": {},
   "outputs": [
    {
     "data": {
      "text/plain": [
       "{'matchDuration': 1784,\n",
       " 'participants': [{'championId': 238,\n",
       "   'stats': {'assists': 1,\n",
       "    'deaths': 10,\n",
       "    'goldEarned': 8849,\n",
       "    'items': [3035, 3153, 3134, 0, 3117, 0, 3341],\n",
       "    'kills': 2,\n",
       "    'minionsKilled': 175,\n",
       "    'totalDamageDealt': 112312,\n",
       "    'totalDamageDealtToChampions': 18107,\n",
       "    'totalDamageTaken': 21151,\n",
       "    'totalHeal': 713,\n",
       "    'totalTimeCrowdControlDealt': 142,\n",
       "    'wardsPlaced': 4},\n",
       "   'summonerId': 179,\n",
       "   'teamId': 100},\n",
       "  {'championId': 412,\n",
       "   'stats': {'assists': 12,\n",
       "    'deaths': 6,\n",
       "    'goldEarned': 7739,\n",
       "    'items': [3401, 3222, 2043, 2049, 1028, 3117, 3341],\n",
       "    'kills': 2,\n",
       "    'minionsKilled': 26,\n",
       "    'totalDamageDealt': 20902,\n",
       "    'totalDamageDealtToChampions': 9042,\n",
       "    'totalDamageTaken': 21791,\n",
       "    'totalHeal': 1422,\n",
       "    'totalTimeCrowdControlDealt': 131,\n",
       "    'wardsPlaced': 20},\n",
       "   'summonerId': 178,\n",
       "   'teamId': 100},\n",
       "  {'championId': 236,\n",
       "   'stats': {'assists': 6,\n",
       "    'deaths': 5,\n",
       "    'goldEarned': 11497,\n",
       "    'items': [1055, 1055, 3031, 3254, 3046, 1036, 3342],\n",
       "    'kills': 8,\n",
       "    'minionsKilled': 185,\n",
       "    'totalDamageDealt': 139159,\n",
       "    'totalDamageDealtToChampions': 19974,\n",
       "    'totalDamageTaken': 21835,\n",
       "    'totalHeal': 2119,\n",
       "    'totalTimeCrowdControlDealt': 169,\n",
       "    'wardsPlaced': 5},\n",
       "   'summonerId': 724,\n",
       "   'teamId': 100},\n",
       "  {'championId': 117,\n",
       "   'stats': {'assists': 5,\n",
       "    'deaths': 8,\n",
       "    'goldEarned': 8124,\n",
       "    'items': [3255, 3165, 3191, 1056, 1052, 1026, 3340],\n",
       "    'kills': 3,\n",
       "    'minionsKilled': 133,\n",
       "    'totalDamageDealt': 71476,\n",
       "    'totalDamageDealtToChampions': 12117,\n",
       "    'totalDamageTaken': 17357,\n",
       "    'totalHeal': 1083,\n",
       "    'totalTimeCrowdControlDealt': 440,\n",
       "    'wardsPlaced': 5},\n",
       "   'summonerId': 553,\n",
       "   'teamId': 100},\n",
       "  {'championId': 20,\n",
       "   'stats': {'assists': 7,\n",
       "    'deaths': 6,\n",
       "    'goldEarned': 9043,\n",
       "    'items': [3725, 2049, 3102, 3024, 3111, 1029, 3364],\n",
       "    'kills': 3,\n",
       "    'minionsKilled': 32,\n",
       "    'totalDamageDealt': 112805,\n",
       "    'totalDamageDealtToChampions': 11765,\n",
       "    'totalDamageTaken': 36657,\n",
       "    'totalHeal': 10975,\n",
       "    'totalTimeCrowdControlDealt': 564,\n",
       "    'wardsPlaced': 10},\n",
       "   'summonerId': 1577,\n",
       "   'teamId': 100},\n",
       "  {'championId': 421,\n",
       "   'stats': {'assists': 12,\n",
       "    'deaths': 2,\n",
       "    'goldEarned': 12124,\n",
       "    'items': [3717, 3111, 3075, 3022, 3082, 1011, 3361],\n",
       "    'kills': 5,\n",
       "    'minionsKilled': 41,\n",
       "    'totalDamageDealt': 163418,\n",
       "    'totalDamageDealtToChampions': 19171,\n",
       "    'totalDamageTaken': 38184,\n",
       "    'totalHeal': 13896,\n",
       "    'totalTimeCrowdControlDealt': 912,\n",
       "    'wardsPlaced': 7},\n",
       "   'summonerId': 1406,\n",
       "   'teamId': 200},\n",
       "  {'championId': 22,\n",
       "   'stats': {'assists': 10,\n",
       "    'deaths': 6,\n",
       "    'goldEarned': 11287,\n",
       "    'items': [3140, 3031, 3046, 3006, 1055, 1055, 3340],\n",
       "    'kills': 8,\n",
       "    'minionsKilled': 142,\n",
       "    'totalDamageDealt': 102425,\n",
       "    'totalDamageDealtToChampions': 21119,\n",
       "    'totalDamageTaken': 17776,\n",
       "    'totalHeal': 2121,\n",
       "    'totalTimeCrowdControlDealt': 1299,\n",
       "    'wardsPlaced': 4},\n",
       "   'summonerId': 1535,\n",
       "   'teamId': 200},\n",
       "  {'championId': 103,\n",
       "   'stats': {'assists': 6,\n",
       "    'deaths': 3,\n",
       "    'goldEarned': 14350,\n",
       "    'items': [1056, 3157, 3165, 3255, 1052, 3285, 3340],\n",
       "    'kills': 13,\n",
       "    'minionsKilled': 227,\n",
       "    'totalDamageDealt': 180719,\n",
       "    'totalDamageDealtToChampions': 28064,\n",
       "    'totalDamageTaken': 17191,\n",
       "    'totalHeal': 5123,\n",
       "    'totalTimeCrowdControlDealt': 73,\n",
       "    'wardsPlaced': 10},\n",
       "   'summonerId': 2448,\n",
       "   'teamId': 200},\n",
       "  {'championId': 63,\n",
       "   'stats': {'assists': 13,\n",
       "    'deaths': 4,\n",
       "    'goldEarned': 10539,\n",
       "    'items': [2049, 3285, 3165, 3158, 3098, 1058, 3341],\n",
       "    'kills': 4,\n",
       "    'minionsKilled': 56,\n",
       "    'totalDamageDealt': 62570,\n",
       "    'totalDamageDealtToChampions': 18610,\n",
       "    'totalDamageTaken': 11771,\n",
       "    'totalHeal': 741,\n",
       "    'totalTimeCrowdControlDealt': 28,\n",
       "    'wardsPlaced': 12},\n",
       "   'summonerId': 1420,\n",
       "   'teamId': 200},\n",
       "  {'championId': 150,\n",
       "   'stats': {'assists': 6,\n",
       "    'deaths': 3,\n",
       "    'goldEarned': 11058,\n",
       "    'items': [3153, 3143, 2003, 3265, 1033, 1028, 3361],\n",
       "    'kills': 5,\n",
       "    'minionsKilled': 189,\n",
       "    'totalDamageDealt': 129340,\n",
       "    'totalDamageDealtToChampions': 13789,\n",
       "    'totalDamageTaken': 19372,\n",
       "    'totalHeal': 3527,\n",
       "    'totalTimeCrowdControlDealt': 583,\n",
       "    'wardsPlaced': 14},\n",
       "   'summonerId': 3440,\n",
       "   'teamId': 200}],\n",
       " 'teams': [{'baronKills': 0,\n",
       "   'dragonKills': 1,\n",
       "   'firstBaron': False,\n",
       "   'firstBlood': False,\n",
       "   'firstDragon': True,\n",
       "   'teamId': 100,\n",
       "   'winner': False},\n",
       "  {'baronKills': 1,\n",
       "   'dragonKills': 3,\n",
       "   'firstBaron': True,\n",
       "   'firstBlood': True,\n",
       "   'firstDragon': False,\n",
       "   'teamId': 200,\n",
       "   'winner': True}]}"
      ]
     },
     "execution_count": 3,
     "metadata": {},
     "output_type": "execute_result"
    }
   ],
   "source": [
    "training_data[0]"
   ]
  },
  {
   "cell_type": "code",
   "execution_count": 4,
   "metadata": {},
   "outputs": [],
   "source": [
    "# champion_info  뭔지 모르겠다.."
   ]
  },
  {
   "cell_type": "code",
   "execution_count": 5,
   "metadata": {},
   "outputs": [
    {
     "data": {
      "text/plain": [
       "dict_keys(['matchDuration', 'teams', 'participants'])"
      ]
     },
     "execution_count": 5,
     "metadata": {},
     "output_type": "execute_result"
    }
   ],
   "source": [
    "training_data[0].keys()"
   ]
  },
  {
   "cell_type": "code",
   "execution_count": 6,
   "metadata": {},
   "outputs": [],
   "source": [
    "matchDuration = [training_data[j]['matchDuration'] for j in range(len(training_data))]"
   ]
  },
  {
   "cell_type": "code",
   "execution_count": 7,
   "metadata": {},
   "outputs": [],
   "source": [
    "teams = [training_data[j]['teams'] for j in range(len(training_data))]"
   ]
  },
  {
   "cell_type": "code",
   "execution_count": 8,
   "metadata": {},
   "outputs": [],
   "source": [
    "participants = [training_data[j]['participants'] for j in range(len(training_data))]\n",
    "test_participants = [testing_data[j]['participants'] for j in range(len(testing_data))]"
   ]
  },
  {
   "cell_type": "code",
   "execution_count": 9,
   "metadata": {},
   "outputs": [],
   "source": [
    "def fun_winner(team):\n",
    "    a_100 = team[0]['winner']\n",
    "    a_200 = team[1]['winner']\n",
    "    if a_100 == True:\n",
    "        return 100\n",
    "    if a_200 == True:\n",
    "        return 200\n",
    "    \n",
    "winner_team = list(map(fun_winner,teams))"
   ]
  },
  {
   "cell_type": "code",
   "execution_count": 10,
   "metadata": {},
   "outputs": [
    {
     "data": {
      "text/plain": [
       "[200, 200, 100, 100, 200]"
      ]
     },
     "execution_count": 10,
     "metadata": {},
     "output_type": "execute_result"
    }
   ],
   "source": [
    "winner_team[:5]"
   ]
  },
  {
   "cell_type": "code",
   "execution_count": 11,
   "metadata": {},
   "outputs": [],
   "source": [
    "teams_100 = [teams[j][0]for j in range(len(training_data))]\n",
    "teams_200 = [teams[j][1] for j in range(len(training_data))]"
   ]
  },
  {
   "cell_type": "code",
   "execution_count": 12,
   "metadata": {},
   "outputs": [
    {
     "name": "stderr",
     "output_type": "stream",
     "text": [
      "/anaconda3/lib/python3.6/importlib/_bootstrap.py:219: RuntimeWarning: numpy.dtype size changed, may indicate binary incompatibility. Expected 96, got 88\n",
      "  return f(*args, **kwds)\n"
     ]
    }
   ],
   "source": [
    "import pandas as pd\n",
    "matchDuration = pd.DataFrame(matchDuration)\n",
    "teams100 = pd.DataFrame(teams_100)\n",
    "teams200 = pd.DataFrame(teams_200)"
   ]
  },
  {
   "cell_type": "code",
   "execution_count": 13,
   "metadata": {},
   "outputs": [],
   "source": [
    "teams100.columns = 'baronKills1', 'dragonKills1', 'firstBaron1', 'firstBlood1', 'firstDragon1','teamId1', 'winner1'"
   ]
  },
  {
   "cell_type": "code",
   "execution_count": 14,
   "metadata": {},
   "outputs": [],
   "source": [
    "teams200.columns = 'baronKills2', 'dragonKills2', 'firstBaron2', 'firstBlood2', 'firstDragon2','teamId2', 'winner2'"
   ]
  },
  {
   "cell_type": "code",
   "execution_count": 15,
   "metadata": {},
   "outputs": [],
   "source": [
    "Teams = pd.concat([teams100,teams200, matchDuration], axis=1)"
   ]
  },
  {
   "cell_type": "code",
   "execution_count": 16,
   "metadata": {},
   "outputs": [
    {
     "data": {
      "text/html": [
       "<div>\n",
       "<style scoped>\n",
       "    .dataframe tbody tr th:only-of-type {\n",
       "        vertical-align: middle;\n",
       "    }\n",
       "\n",
       "    .dataframe tbody tr th {\n",
       "        vertical-align: top;\n",
       "    }\n",
       "\n",
       "    .dataframe thead th {\n",
       "        text-align: right;\n",
       "    }\n",
       "</style>\n",
       "<table border=\"1\" class=\"dataframe\">\n",
       "  <thead>\n",
       "    <tr style=\"text-align: right;\">\n",
       "      <th></th>\n",
       "      <th>baronKills1</th>\n",
       "      <th>dragonKills1</th>\n",
       "      <th>firstBaron1</th>\n",
       "      <th>firstBlood1</th>\n",
       "      <th>firstDragon1</th>\n",
       "      <th>teamId1</th>\n",
       "      <th>winner1</th>\n",
       "      <th>baronKills2</th>\n",
       "      <th>dragonKills2</th>\n",
       "      <th>firstBaron2</th>\n",
       "      <th>firstBlood2</th>\n",
       "      <th>firstDragon2</th>\n",
       "      <th>teamId2</th>\n",
       "      <th>winner2</th>\n",
       "      <th>0</th>\n",
       "    </tr>\n",
       "  </thead>\n",
       "  <tbody>\n",
       "    <tr>\n",
       "      <th>0</th>\n",
       "      <td>0</td>\n",
       "      <td>1</td>\n",
       "      <td>False</td>\n",
       "      <td>False</td>\n",
       "      <td>True</td>\n",
       "      <td>100</td>\n",
       "      <td>False</td>\n",
       "      <td>1</td>\n",
       "      <td>3</td>\n",
       "      <td>True</td>\n",
       "      <td>True</td>\n",
       "      <td>False</td>\n",
       "      <td>200</td>\n",
       "      <td>True</td>\n",
       "      <td>1784</td>\n",
       "    </tr>\n",
       "    <tr>\n",
       "      <th>1</th>\n",
       "      <td>0</td>\n",
       "      <td>1</td>\n",
       "      <td>False</td>\n",
       "      <td>True</td>\n",
       "      <td>True</td>\n",
       "      <td>100</td>\n",
       "      <td>False</td>\n",
       "      <td>0</td>\n",
       "      <td>2</td>\n",
       "      <td>False</td>\n",
       "      <td>False</td>\n",
       "      <td>False</td>\n",
       "      <td>200</td>\n",
       "      <td>True</td>\n",
       "      <td>1525</td>\n",
       "    </tr>\n",
       "    <tr>\n",
       "      <th>2</th>\n",
       "      <td>1</td>\n",
       "      <td>3</td>\n",
       "      <td>True</td>\n",
       "      <td>False</td>\n",
       "      <td>False</td>\n",
       "      <td>100</td>\n",
       "      <td>True</td>\n",
       "      <td>0</td>\n",
       "      <td>1</td>\n",
       "      <td>False</td>\n",
       "      <td>True</td>\n",
       "      <td>True</td>\n",
       "      <td>200</td>\n",
       "      <td>False</td>\n",
       "      <td>1896</td>\n",
       "    </tr>\n",
       "    <tr>\n",
       "      <th>3</th>\n",
       "      <td>0</td>\n",
       "      <td>2</td>\n",
       "      <td>False</td>\n",
       "      <td>True</td>\n",
       "      <td>False</td>\n",
       "      <td>100</td>\n",
       "      <td>True</td>\n",
       "      <td>0</td>\n",
       "      <td>1</td>\n",
       "      <td>False</td>\n",
       "      <td>False</td>\n",
       "      <td>True</td>\n",
       "      <td>200</td>\n",
       "      <td>False</td>\n",
       "      <td>1590</td>\n",
       "    </tr>\n",
       "    <tr>\n",
       "      <th>4</th>\n",
       "      <td>0</td>\n",
       "      <td>1</td>\n",
       "      <td>False</td>\n",
       "      <td>True</td>\n",
       "      <td>True</td>\n",
       "      <td>100</td>\n",
       "      <td>False</td>\n",
       "      <td>1</td>\n",
       "      <td>3</td>\n",
       "      <td>True</td>\n",
       "      <td>False</td>\n",
       "      <td>False</td>\n",
       "      <td>200</td>\n",
       "      <td>True</td>\n",
       "      <td>2299</td>\n",
       "    </tr>\n",
       "  </tbody>\n",
       "</table>\n",
       "</div>"
      ],
      "text/plain": [
       "   baronKills1  dragonKills1  firstBaron1  firstBlood1  firstDragon1  teamId1  \\\n",
       "0            0             1        False        False          True      100   \n",
       "1            0             1        False         True          True      100   \n",
       "2            1             3         True        False         False      100   \n",
       "3            0             2        False         True         False      100   \n",
       "4            0             1        False         True          True      100   \n",
       "\n",
       "   winner1  baronKills2  dragonKills2  firstBaron2  firstBlood2  firstDragon2  \\\n",
       "0    False            1             3         True         True         False   \n",
       "1    False            0             2        False        False         False   \n",
       "2     True            0             1        False         True          True   \n",
       "3     True            0             1        False        False          True   \n",
       "4    False            1             3         True        False         False   \n",
       "\n",
       "   teamId2  winner2     0  \n",
       "0      200     True  1784  \n",
       "1      200     True  1525  \n",
       "2      200    False  1896  \n",
       "3      200    False  1590  \n",
       "4      200     True  2299  "
      ]
     },
     "execution_count": 16,
     "metadata": {},
     "output_type": "execute_result"
    }
   ],
   "source": [
    "Teams.head()"
   ]
  },
  {
   "cell_type": "code",
   "execution_count": 18,
   "metadata": {},
   "outputs": [],
   "source": [
    "def func_char(part):\n",
    "    a = [part[i]['championId'] for i in range(10)]\n",
    "    return a\n",
    "Participants = list(map(func_char,participants))\n",
    "test_Participants = list(map(func_char,test_participants))"
   ]
  },
  {
   "cell_type": "code",
   "execution_count": 19,
   "metadata": {},
   "outputs": [
    {
     "data": {
      "text/plain": [
       "125"
      ]
     },
     "execution_count": 19,
     "metadata": {},
     "output_type": "execute_result"
    }
   ],
   "source": [
    "a = sum(Participants,[])\n",
    "len(set(a)) # 챔피언(캐릭터) 종류는 125개"
   ]
  },
  {
   "cell_type": "code",
   "execution_count": 20,
   "metadata": {},
   "outputs": [
    {
     "data": {
      "text/plain": [
       "[238, 412, 236, 117, 20, 421, 22, 103, 63, 150]"
      ]
     },
     "execution_count": 20,
     "metadata": {},
     "output_type": "execute_result"
    }
   ],
   "source": [
    "Participants[0] # 게임당 5캐릭 + 5캐릭"
   ]
  },
  {
   "cell_type": "code",
   "execution_count": 21,
   "metadata": {},
   "outputs": [],
   "source": [
    "def func_id(part):\n",
    "    a = [part[i][\"summonerId\"] for i in range(10)]\n",
    "    return a\n",
    "player_id = list(map(func_id,participants))\n",
    "test_player_id = list(map(func_id,test_participants))"
   ]
  },
  {
   "cell_type": "code",
   "execution_count": 22,
   "metadata": {},
   "outputs": [
    {
     "data": {
      "text/plain": [
       "[179, 178, 724, 553, 1577, 1406, 1535, 2448, 1420, 3440]"
      ]
     },
     "execution_count": 22,
     "metadata": {},
     "output_type": "execute_result"
    }
   ],
   "source": [
    "player_id[0] # 게임당 5아이디 + 5아이디"
   ]
  },
  {
   "cell_type": "code",
   "execution_count": 23,
   "metadata": {},
   "outputs": [
    {
     "name": "stdout",
     "output_type": "stream",
     "text": [
      "[236, 28, 111, 13, 8, 69, 120, 254, 201, 222]\n",
      "[1420, 835, 1607, 650, 1284, 4748, 913, 250, 286, 1436]\n"
     ]
    }
   ],
   "source": [
    "print(test_Participants[0])\n",
    "print(test_player_id[0])"
   ]
  },
  {
   "cell_type": "code",
   "execution_count": 35,
   "metadata": {},
   "outputs": [],
   "source": [
    "player = pd.DataFrame(player_id)\n",
    "parti = pd.DataFrame(Participants)\n",
    "participant_df = pd.concat([player, parti], axis=1)\n",
    "\n",
    "test_player = pd.DataFrame(test_player_id)\n",
    "test_parti = pd.DataFrame(test_Participants)\n",
    "test_participant_df = pd.concat([test_player, test_parti], axis=1)\n",
    "\n",
    "\n",
    "Y = pd.DataFrame(winner_team)"
   ]
  },
  {
   "cell_type": "code",
   "execution_count": 25,
   "metadata": {},
   "outputs": [],
   "source": [
    "participant_df.columns = ['i0','i0','i0','i0','i0','i1','i1','i1','i1','i1','0','0','0','0','0','1','1','1','1','1']\n",
    "test_participant_df.columns = ['i0','i0','i0','i0','i0','i1','i1','i1','i1','i1','0','0','0','0','0','1','1','1','1','1']"
   ]
  },
  {
   "cell_type": "code",
   "execution_count": 26,
   "metadata": {},
   "outputs": [
    {
     "data": {
      "text/html": [
       "<div>\n",
       "<style scoped>\n",
       "    .dataframe tbody tr th:only-of-type {\n",
       "        vertical-align: middle;\n",
       "    }\n",
       "\n",
       "    .dataframe tbody tr th {\n",
       "        vertical-align: top;\n",
       "    }\n",
       "\n",
       "    .dataframe thead th {\n",
       "        text-align: right;\n",
       "    }\n",
       "</style>\n",
       "<table border=\"1\" class=\"dataframe\">\n",
       "  <thead>\n",
       "    <tr style=\"text-align: right;\">\n",
       "      <th></th>\n",
       "      <th>i0</th>\n",
       "      <th>i0</th>\n",
       "      <th>i0</th>\n",
       "      <th>i0</th>\n",
       "      <th>i0</th>\n",
       "      <th>i1</th>\n",
       "      <th>i1</th>\n",
       "      <th>i1</th>\n",
       "      <th>i1</th>\n",
       "      <th>i1</th>\n",
       "      <th>0</th>\n",
       "      <th>0</th>\n",
       "      <th>0</th>\n",
       "      <th>0</th>\n",
       "      <th>0</th>\n",
       "      <th>1</th>\n",
       "      <th>1</th>\n",
       "      <th>1</th>\n",
       "      <th>1</th>\n",
       "      <th>1</th>\n",
       "    </tr>\n",
       "  </thead>\n",
       "  <tbody>\n",
       "    <tr>\n",
       "      <th>0</th>\n",
       "      <td>238</td>\n",
       "      <td>412</td>\n",
       "      <td>236</td>\n",
       "      <td>117</td>\n",
       "      <td>20</td>\n",
       "      <td>421</td>\n",
       "      <td>22</td>\n",
       "      <td>103</td>\n",
       "      <td>63</td>\n",
       "      <td>150</td>\n",
       "      <td>179</td>\n",
       "      <td>178</td>\n",
       "      <td>724</td>\n",
       "      <td>553</td>\n",
       "      <td>1577</td>\n",
       "      <td>1406</td>\n",
       "      <td>1535</td>\n",
       "      <td>2448</td>\n",
       "      <td>1420</td>\n",
       "      <td>3440</td>\n",
       "    </tr>\n",
       "  </tbody>\n",
       "</table>\n",
       "</div>"
      ],
      "text/plain": [
       "    i0   i0   i0   i0  i0   i1  i1   i1  i1   i1    0    0    0    0     0  \\\n",
       "0  238  412  236  117  20  421  22  103  63  150  179  178  724  553  1577   \n",
       "\n",
       "      1     1     1     1     1  \n",
       "0  1406  1535  2448  1420  3440  "
      ]
     },
     "execution_count": 26,
     "metadata": {},
     "output_type": "execute_result"
    }
   ],
   "source": [
    "participant_df.head(1)"
   ]
  },
  {
   "cell_type": "code",
   "execution_count": 27,
   "metadata": {},
   "outputs": [
    {
     "data": {
      "text/html": [
       "<div>\n",
       "<style scoped>\n",
       "    .dataframe tbody tr th:only-of-type {\n",
       "        vertical-align: middle;\n",
       "    }\n",
       "\n",
       "    .dataframe tbody tr th {\n",
       "        vertical-align: top;\n",
       "    }\n",
       "\n",
       "    .dataframe thead th {\n",
       "        text-align: right;\n",
       "    }\n",
       "</style>\n",
       "<table border=\"1\" class=\"dataframe\">\n",
       "  <thead>\n",
       "    <tr style=\"text-align: right;\">\n",
       "      <th></th>\n",
       "      <th>i0</th>\n",
       "      <th>i0</th>\n",
       "      <th>i0</th>\n",
       "      <th>i0</th>\n",
       "      <th>i0</th>\n",
       "      <th>i1</th>\n",
       "      <th>i1</th>\n",
       "      <th>i1</th>\n",
       "      <th>i1</th>\n",
       "      <th>i1</th>\n",
       "      <th>0</th>\n",
       "      <th>0</th>\n",
       "      <th>0</th>\n",
       "      <th>0</th>\n",
       "      <th>0</th>\n",
       "      <th>1</th>\n",
       "      <th>1</th>\n",
       "      <th>1</th>\n",
       "      <th>1</th>\n",
       "      <th>1</th>\n",
       "    </tr>\n",
       "  </thead>\n",
       "  <tbody>\n",
       "    <tr>\n",
       "      <th>0</th>\n",
       "      <td>236</td>\n",
       "      <td>28</td>\n",
       "      <td>111</td>\n",
       "      <td>13</td>\n",
       "      <td>8</td>\n",
       "      <td>69</td>\n",
       "      <td>120</td>\n",
       "      <td>254</td>\n",
       "      <td>201</td>\n",
       "      <td>222</td>\n",
       "      <td>1420</td>\n",
       "      <td>835</td>\n",
       "      <td>1607</td>\n",
       "      <td>650</td>\n",
       "      <td>1284</td>\n",
       "      <td>4748</td>\n",
       "      <td>913</td>\n",
       "      <td>250</td>\n",
       "      <td>286</td>\n",
       "      <td>1436</td>\n",
       "    </tr>\n",
       "  </tbody>\n",
       "</table>\n",
       "</div>"
      ],
      "text/plain": [
       "    i0  i0   i0  i0  i0  i1   i1   i1   i1   i1     0    0     0    0     0  \\\n",
       "0  236  28  111  13   8  69  120  254  201  222  1420  835  1607  650  1284   \n",
       "\n",
       "      1    1    1    1     1  \n",
       "0  4748  913  250  286  1436  "
      ]
     },
     "execution_count": 27,
     "metadata": {},
     "output_type": "execute_result"
    }
   ],
   "source": [
    "test_participant_df.head(1)"
   ]
  },
  {
   "cell_type": "code",
   "execution_count": 28,
   "metadata": {},
   "outputs": [],
   "source": [
    "train = participant_df \n",
    "#pd.concat([participant_df, Teams], axis=1)\n",
    "test = test_participant_df\n",
    "#pd.concat([test_participant_df, Teams], axis=1)"
   ]
  },
  {
   "cell_type": "markdown",
   "metadata": {},
   "source": [
    "#### 플레이어 아이디 & 캐릭터"
   ]
  },
  {
   "cell_type": "code",
   "execution_count": 37,
   "metadata": {},
   "outputs": [
    {
     "name": "stdout",
     "output_type": "stream",
     "text": [
      "Accuracy: 0.8245\n"
     ]
    }
   ],
   "source": [
    "from sklearn.metrics import accuracy_score\n",
    "from sklearn.ensemble import RandomForestClassifier\n",
    "\n",
    "clf = RandomForestClassifier(random_state=0)\n",
    "clf.fit(train, winner_team)\n",
    "y_pred = clf.predict(test)\n",
    "print(\"Accuracy: {}\".format(accuracy_score(y, y_pred)))"
   ]
  },
  {
   "cell_type": "markdown",
   "metadata": {},
   "source": [
    "#### 플레이어 아이디"
   ]
  },
  {
   "cell_type": "code",
   "execution_count": 399,
   "metadata": {},
   "outputs": [
    {
     "name": "stdout",
     "output_type": "stream",
     "text": [
      "Accuracy: 0.8445\n"
     ]
    }
   ],
   "source": [
    "from sklearn.metrics import accuracy_score\n",
    "from sklearn.ensemble import RandomForestClassifier\n",
    "\n",
    "clf = RandomForestClassifier(random_state=0)\n",
    "clf.fit(player, winner_team)\n",
    "y_pred = clf.predict(test_player)\n",
    "print(\"Accuracy: {}\".format(accuracy_score(y, y_pred)) )"
   ]
  },
  {
   "cell_type": "markdown",
   "metadata": {},
   "source": [
    "#### 캐릭터"
   ]
  },
  {
   "cell_type": "code",
   "execution_count": 400,
   "metadata": {},
   "outputs": [
    {
     "name": "stdout",
     "output_type": "stream",
     "text": [
      "Accuracy: 0.846\n"
     ]
    }
   ],
   "source": [
    "from sklearn.metrics import accuracy_score\n",
    "from sklearn.ensemble import RandomForestClassifier\n",
    "\n",
    "clf = RandomForestClassifier(random_state=0)\n",
    "clf.fit(parti, winner_team)\n",
    "y_pred = clf.predict(test_parti)\n",
    "print(\"Accuracy: {}\".format(accuracy_score(y, y_pred)) )"
   ]
  },
  {
   "cell_type": "code",
   "execution_count": null,
   "metadata": {},
   "outputs": [],
   "source": []
  },
  {
   "cell_type": "code",
   "execution_count": null,
   "metadata": {},
   "outputs": [],
   "source": []
  },
  {
   "cell_type": "code",
   "execution_count": null,
   "metadata": {},
   "outputs": [],
   "source": []
  },
  {
   "cell_type": "code",
   "execution_count": null,
   "metadata": {},
   "outputs": [],
   "source": []
  },
  {
   "cell_type": "code",
   "execution_count": null,
   "metadata": {},
   "outputs": [],
   "source": []
  }
 ],
 "metadata": {
  "kernelspec": {
   "display_name": "Python 3",
   "language": "python",
   "name": "python3"
  },
  "language_info": {
   "codemirror_mode": {
    "name": "ipython",
    "version": 3
   },
   "file_extension": ".py",
   "mimetype": "text/x-python",
   "name": "python",
   "nbconvert_exporter": "python",
   "pygments_lexer": "ipython3",
   "version": "3.6.4"
  }
 },
 "nbformat": 4,
 "nbformat_minor": 2
}
